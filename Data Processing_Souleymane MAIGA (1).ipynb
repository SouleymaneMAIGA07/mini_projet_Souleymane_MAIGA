{
 "cells": [
  {
   "cell_type": "code",
   "execution_count": 110,
   "id": "d95b1028-f055-4dd7-bae4-8c24365a5bad",
   "metadata": {},
   "outputs": [],
   "source": [
    "import pandas as pd"
   ]
  },
  {
   "cell_type": "code",
   "execution_count": 108,
   "id": "c6efa0b1-773f-4dbb-a1aa-5a02befa1403",
   "metadata": {},
   "outputs": [
    {
     "name": "stdout",
     "output_type": "stream",
     "text": [
      "Requirement already satisfied: XlsxWriter in c:\\anaconda\\lib\\site-packages (3.2.5)\n",
      "Note: you may need to restart the kernel to use updated packages.\n"
     ]
    }
   ],
   "source": [
    "%pip install XlsxWriter"
   ]
  },
  {
   "cell_type": "code",
   "execution_count": 112,
   "id": "45c962fb-0290-4f62-b6fd-cdbe9ed9d3fd",
   "metadata": {},
   "outputs": [
    {
     "name": "stdout",
     "output_type": "stream",
     "text": [
      "Nombre total de lignes : 11958\n",
      "Colonnes lues : ['geonameid', 'name', 'asciiname', 'alternatenames', 'latitude', 'longitude', 'feature_class', 'feature_code', 'country_code', 'cc2', 'admin1_code', 'admin2_code', 'admin3_code', 'admin4_code', 'population', 'elevation', 'dem', 'timezone', 'modification_date']\n",
      "\n",
      "Aperçu des 5 premières lignes :\n",
      "  geonameid                name           asciiname  \\\n",
      "0   2282318              Pouéné              Pouene   \n",
      "1   2285251  Léraba Occidentale  Leraba Occidentale   \n",
      "2   2287216           Kéléouoro           Keleouoro   \n",
      "3   2294066         White Volta         White Volta   \n",
      "4   2298457        Issana Bouga        Issana Bouga   \n",
      "\n",
      "                                      alternatenames  latitude longitude  \\\n",
      "0                                                NaN   9.72908   -2.7866   \n",
      "1  Badini,La Leraba Occidentale,Leraba,Leraba Occ...  10.28333  -5.11667   \n",
      "2              Keleouoro,Keleworo,Kéléouoro,Kéléworo   9.80748  -4.05023   \n",
      "3  Nakambe,Nakambé,Nakanbe,Nakanbé,Volta Blanche,...   8.70194  -0.99056   \n",
      "4                      Issana Bouga,Lanyung,Lanyunga  10.91667  -1.18333   \n",
      "\n",
      "  feature_class feature_code country_code    cc2 admin1_code admin2_code  \\\n",
      "0             H          STM           BF    NaN          00         NaN   \n",
      "1             H          STM           BF     CI          00         NaN   \n",
      "2             H          STM           BF  BF,CI          00         NaN   \n",
      "3             H          STM           BF     GH          00         NaN   \n",
      "4             H          STM           BF    NaN          00         NaN   \n",
      "\n",
      "  admin3_code admin4_code population elevation  dem        timezone  \\\n",
      "0         NaN         NaN          0       NaN  226  Africa/Abidjan   \n",
      "1         NaN         NaN          0       NaN  283  Africa/Abidjan   \n",
      "2         NaN         NaN          0       NaN  261  Africa/Abidjan   \n",
      "3         NaN         NaN          0       NaN   75    Africa/Accra   \n",
      "4         NaN         NaN          0       NaN  178    Africa/Accra   \n",
      "\n",
      "  modification_date  \n",
      "0        2023-11-07  \n",
      "1        2023-11-07  \n",
      "2        2023-11-07  \n",
      "3        2023-11-08  \n",
      "4        2023-11-08  \n"
     ]
    }
   ],
   "source": [
    "# Définition des noms des colonnes d’après le README GeoNames\n",
    "colnames = [\n",
    "    'geonameid','name','asciiname','alternatenames','latitude','longitude',\n",
    "    'feature_class','feature_code','country_code','cc2',\n",
    "    'admin1_code','admin2_code','admin3_code','admin4_code',\n",
    "    'population','elevation','dem','timezone','modification_date'\n",
    "]\n",
    "\n",
    "# Lecture du fichier BF.txt\n",
    "df = pd.read_csv(\"BF.txt\", sep=\"\\t\", header=None, names=colnames, dtype=str)\n",
    "\n",
    "# Vérification du chargement\n",
    "print(\"Nombre total de lignes :\", len(df))\n",
    "print(\"Colonnes lues :\", df.columns.tolist())\n",
    "print(\"\\nAperçu des 5 premières lignes :\")\n",
    "print(df.head())"
   ]
  },
  {
   "cell_type": "code",
   "execution_count": 114,
   "id": "85018d68-db1c-461b-892c-28447b2b37b7",
   "metadata": {},
   "outputs": [
    {
     "name": "stdout",
     "output_type": "stream",
     "text": [
      "        ID       location_name       lat      long\n",
      "0  2282318              Pouéné   9.72908   -2.7866\n",
      "1  2285251  Léraba Occidentale  10.28333  -5.11667\n",
      "2  2287216           Kéléouoro   9.80748  -4.05023\n",
      "3  2294066         White Volta   8.70194  -0.99056\n",
      "4  2298457        Issana Bouga  10.91667  -1.18333\n"
     ]
    }
   ],
   "source": [
    "#3. Appliquer les opérations de prétraitement et filtres\n",
    "\n",
    "#3.1. Sélection des colonnes demandées\n",
    "df_small = df[['geonameid', 'name', 'latitude', 'longitude']].copy()\n",
    "\n",
    "#3.2. Renommage des colonnes \n",
    "df_small.rename(\n",
    "    columns={\n",
    "        'geonameid': 'ID',\n",
    "        'name': 'location_name',\n",
    "        'latitude': 'lat',\n",
    "        'longitude': 'long'\n",
    "    },\n",
    "    inplace=True\n",
    "    )\n",
    "print(df_small.head())"
   ]
  },
  {
   "cell_type": "code",
   "execution_count": 29,
   "id": "ecddbd58-ff34-4a5c-885c-2fa996644cd9",
   "metadata": {},
   "outputs": [
    {
     "data": {
      "text/html": [
       "<div>\n",
       "<style scoped>\n",
       "    .dataframe tbody tr th:only-of-type {\n",
       "        vertical-align: middle;\n",
       "    }\n",
       "\n",
       "    .dataframe tbody tr th {\n",
       "        vertical-align: top;\n",
       "    }\n",
       "\n",
       "    .dataframe thead th {\n",
       "        text-align: right;\n",
       "    }\n",
       "</style>\n",
       "<table border=\"1\" class=\"dataframe\">\n",
       "  <thead>\n",
       "    <tr style=\"text-align: right;\">\n",
       "      <th></th>\n",
       "      <th>ID</th>\n",
       "      <th>location_name</th>\n",
       "      <th>lat</th>\n",
       "      <th>long</th>\n",
       "    </tr>\n",
       "  </thead>\n",
       "  <tbody>\n",
       "    <tr>\n",
       "      <th>0</th>\n",
       "      <td>2282318</td>\n",
       "      <td>Pouéné</td>\n",
       "      <td>9.72908</td>\n",
       "      <td>-2.78660</td>\n",
       "    </tr>\n",
       "    <tr>\n",
       "      <th>1</th>\n",
       "      <td>2285251</td>\n",
       "      <td>Léraba Occidentale</td>\n",
       "      <td>10.28333</td>\n",
       "      <td>-5.11667</td>\n",
       "    </tr>\n",
       "    <tr>\n",
       "      <th>2</th>\n",
       "      <td>2287216</td>\n",
       "      <td>Kéléouoro</td>\n",
       "      <td>9.80748</td>\n",
       "      <td>-4.05023</td>\n",
       "    </tr>\n",
       "    <tr>\n",
       "      <th>3</th>\n",
       "      <td>2294066</td>\n",
       "      <td>White Volta</td>\n",
       "      <td>8.70194</td>\n",
       "      <td>-0.99056</td>\n",
       "    </tr>\n",
       "    <tr>\n",
       "      <th>4</th>\n",
       "      <td>2298457</td>\n",
       "      <td>Issana Bouga</td>\n",
       "      <td>10.91667</td>\n",
       "      <td>-1.18333</td>\n",
       "    </tr>\n",
       "  </tbody>\n",
       "</table>\n",
       "</div>"
      ],
      "text/plain": [
       "        ID       location_name       lat     long\n",
       "0  2282318              Pouéné   9.72908 -2.78660\n",
       "1  2285251  Léraba Occidentale  10.28333 -5.11667\n",
       "2  2287216           Kéléouoro   9.80748 -4.05023\n",
       "3  2294066         White Volta   8.70194 -0.99056\n",
       "4  2298457        Issana Bouga  10.91667 -1.18333"
      ]
     },
     "execution_count": 29,
     "metadata": {},
     "output_type": "execute_result"
    }
   ],
   "source": [
    "#3.3. Sauvegarde des données dans un fichier CSV, nommé burkina_location.csv\n",
    "df_small.to_csv(\"burkina_location.csv\", index=False)\n",
    "\n",
    "df_small = pd.read_csv(\"burkina_location.csv\")\n",
    "\n",
    "# Affichons les 5 premières lignes\n",
    "df_small.head()"
   ]
  },
  {
   "cell_type": "code",
   "execution_count": 72,
   "id": "b0de325c-69be-405e-ad7e-28cbb9ae79e4",
   "metadata": {},
   "outputs": [
    {
     "name": "stdout",
     "output_type": "stream",
     "text": [
      "Nombre de lignes de gounghin : 10\n"
     ]
    },
    {
     "data": {
      "text/html": [
       "<div>\n",
       "<style scoped>\n",
       "    .dataframe tbody tr th:only-of-type {\n",
       "        vertical-align: middle;\n",
       "    }\n",
       "\n",
       "    .dataframe tbody tr th {\n",
       "        vertical-align: top;\n",
       "    }\n",
       "\n",
       "    .dataframe thead th {\n",
       "        text-align: right;\n",
       "    }\n",
       "</style>\n",
       "<table border=\"1\" class=\"dataframe\">\n",
       "  <thead>\n",
       "    <tr style=\"text-align: right;\">\n",
       "      <th></th>\n",
       "      <th>ID</th>\n",
       "      <th>location_name</th>\n",
       "      <th>lat</th>\n",
       "      <th>long</th>\n",
       "    </tr>\n",
       "  </thead>\n",
       "  <tbody>\n",
       "    <tr>\n",
       "      <th>153</th>\n",
       "      <td>2353306</td>\n",
       "      <td>Gounghin</td>\n",
       "      <td>12.06677</td>\n",
       "      <td>-1.42134</td>\n",
       "    </tr>\n",
       "    <tr>\n",
       "      <th>7269</th>\n",
       "      <td>2360473</td>\n",
       "      <td>Gounghin</td>\n",
       "      <td>12.62488</td>\n",
       "      <td>-1.36398</td>\n",
       "    </tr>\n",
       "    <tr>\n",
       "      <th>10260</th>\n",
       "      <td>2570204</td>\n",
       "      <td>Gounghin</td>\n",
       "      <td>12.31436</td>\n",
       "      <td>-1.37900</td>\n",
       "    </tr>\n",
       "    <tr>\n",
       "      <th>10746</th>\n",
       "      <td>10342749</td>\n",
       "      <td>Gounghin</td>\n",
       "      <td>12.06667</td>\n",
       "      <td>-0.15000</td>\n",
       "    </tr>\n",
       "    <tr>\n",
       "      <th>10759</th>\n",
       "      <td>10629032</td>\n",
       "      <td>BICIAB // Gounghin</td>\n",
       "      <td>12.35921</td>\n",
       "      <td>-1.54273</td>\n",
       "    </tr>\n",
       "  </tbody>\n",
       "</table>\n",
       "</div>"
      ],
      "text/plain": [
       "             ID       location_name       lat     long\n",
       "153     2353306            Gounghin  12.06677 -1.42134\n",
       "7269    2360473            Gounghin  12.62488 -1.36398\n",
       "10260   2570204            Gounghin  12.31436 -1.37900\n",
       "10746  10342749            Gounghin  12.06667 -0.15000\n",
       "10759  10629032  BICIAB // Gounghin  12.35921 -1.54273"
      ]
     },
     "execution_count": 72,
     "metadata": {},
     "output_type": "execute_result"
    }
   ],
   "source": [
    "#4.1 Extraction des données contenant \"gounghin\"\n",
    "\n",
    "# On convertit tout en minuscule pour être sûr de ne pas rater à cause de la casse\n",
    "df_gounghin = df_small[df_small['location_name'].str.lower().str.contains('gounghin')]\n",
    "\n",
    "# Sauvegarde dans un fichier gounghin.csv\n",
    "df_gounghin.to_csv(\"gounghin.csv\", index=False)\n",
    "\n",
    "print(\"Nombre de lignes de gounghin :\", len(df_gounghin))\n",
    "\n",
    "df_gounghin.head()                  "
   ]
  },
  {
   "cell_type": "code",
   "execution_count": 74,
   "id": "06a06aca-94a8-41d5-b036-59990b08900f",
   "metadata": {},
   "outputs": [
    {
     "name": "stdout",
     "output_type": "stream",
     "text": [
      "Nombre de lignes de A_to_P : 8306\n"
     ]
    },
    {
     "data": {
      "text/html": [
       "<div>\n",
       "<style scoped>\n",
       "    .dataframe tbody tr th:only-of-type {\n",
       "        vertical-align: middle;\n",
       "    }\n",
       "\n",
       "    .dataframe tbody tr th {\n",
       "        vertical-align: top;\n",
       "    }\n",
       "\n",
       "    .dataframe thead th {\n",
       "        text-align: right;\n",
       "    }\n",
       "</style>\n",
       "<table border=\"1\" class=\"dataframe\">\n",
       "  <thead>\n",
       "    <tr style=\"text-align: right;\">\n",
       "      <th></th>\n",
       "      <th>ID</th>\n",
       "      <th>location_name</th>\n",
       "      <th>lat</th>\n",
       "      <th>long</th>\n",
       "    </tr>\n",
       "  </thead>\n",
       "  <tbody>\n",
       "    <tr>\n",
       "      <th>0</th>\n",
       "      <td>2282318</td>\n",
       "      <td>Pouéné</td>\n",
       "      <td>9.72908</td>\n",
       "      <td>-2.78660</td>\n",
       "    </tr>\n",
       "    <tr>\n",
       "      <th>1</th>\n",
       "      <td>2285251</td>\n",
       "      <td>Léraba Occidentale</td>\n",
       "      <td>10.28333</td>\n",
       "      <td>-5.11667</td>\n",
       "    </tr>\n",
       "    <tr>\n",
       "      <th>2</th>\n",
       "      <td>2287216</td>\n",
       "      <td>Kéléouoro</td>\n",
       "      <td>9.80748</td>\n",
       "      <td>-4.05023</td>\n",
       "    </tr>\n",
       "    <tr>\n",
       "      <th>4</th>\n",
       "      <td>2298457</td>\n",
       "      <td>Issana Bouga</td>\n",
       "      <td>10.91667</td>\n",
       "      <td>-1.18333</td>\n",
       "    </tr>\n",
       "    <tr>\n",
       "      <th>137</th>\n",
       "      <td>2353290</td>\n",
       "      <td>Forêt Classée de Ziga</td>\n",
       "      <td>12.47106</td>\n",
       "      <td>-1.08644</td>\n",
       "    </tr>\n",
       "  </tbody>\n",
       "</table>\n",
       "</div>"
      ],
      "text/plain": [
       "          ID          location_name       lat     long\n",
       "0    2282318                 Pouéné   9.72908 -2.78660\n",
       "1    2285251     Léraba Occidentale  10.28333 -5.11667\n",
       "2    2287216              Kéléouoro   9.80748 -4.05023\n",
       "4    2298457           Issana Bouga  10.91667 -1.18333\n",
       "137  2353290  Forêt Classée de Ziga  12.47106 -1.08644"
      ]
     },
     "execution_count": 74,
     "metadata": {},
     "output_type": "execute_result"
    }
   ],
   "source": [
    "#4.2 Extraction des noms de lieux dont la première lettre est entre 'A' et 'P'\n",
    "\n",
    "# On utilise str[0] pour prendre la première lettre et on compare avec l'intervalle alphabétique\n",
    "df_A_to_P = df_small[\n",
    "    df_small['location_name'].str[0].str.upper().between('A', 'P')\n",
    "]\n",
    "\n",
    "# Sauvegarde dans A_to_P.csv\n",
    "df_A_to_P.to_csv(\"A_to_P.csv\", index=False)\n",
    "\n",
    "print(\"Nombre de lignes de A_to_P :\", len(df_A_to_P))\n",
    "\n",
    "df_A_to_P.head()\n"
   ]
  },
  {
   "cell_type": "code",
   "execution_count": 76,
   "id": "24042a81-4b9e-45b1-99d8-417ae8deb0b8",
   "metadata": {},
   "outputs": [
    {
     "name": "stdout",
     "output_type": "stream",
     "text": [
      "Latitude minimale : 5.21609 Nom du lieu correspondant : ['Komoé']\n",
      "Longitude minimale : -5.65968 Nom du lieu correspondant : ['Banifing']\n"
     ]
    }
   ],
   "source": [
    "#4.3 Identification de la latitude minimale, de la longitude minimale et des noms de lieux correspondants\n",
    "\n",
    "# Conversion des colonnes lat et long en float pour pouvoir chercher min\n",
    "df_small['lat'] = df_small['lat'].astype(float)\n",
    "df_small['long'] = df_small['long'].astype(float)\n",
    "\n",
    "# Recherche de la latitude minimale\n",
    "lat_min = df_small['lat'].min()\n",
    "lieux_lat_min = df_small[df_small['lat'] == lat_min]['location_name'].tolist()\n",
    "\n",
    "# Recherche de la longitude minimale\n",
    "long_min = df_small['long'].min()\n",
    "lieux_long_min = df_small[df_small['long'] == long_min]['location_name'].tolist()\n",
    "\n",
    "print(\"Latitude minimale :\", lat_min, \"Nom du lieu correspondant :\", lieux_lat_min)\n",
    "print(\"Longitude minimale :\", long_min, \"Nom du lieu correspondant :\", lieux_long_min)"
   ]
  },
  {
   "cell_type": "code",
   "execution_count": 63,
   "id": "b638f53f-5937-4d9a-af39-8c30f6a955c0",
   "metadata": {},
   "outputs": [
    {
     "name": "stdout",
     "output_type": "stream",
     "text": [
      "Lieux filtrés selon lat >= 11 et long <= 0.5 :\n",
      "             ID location_name       lat     long\n",
      "5       2353158      Zyonguen  12.36667 -0.45000\n",
      "6       2353159     Zyiliwèlè  12.38333 -2.73333\n",
      "7       2353160        Zyanko  12.78333 -0.41667\n",
      "8       2353161         Zouta  13.14908 -1.28197\n",
      "9       2353162     Zourtenga  12.95741 -1.28745\n",
      "...         ...           ...       ...      ...\n",
      "11953  13494828     Tounougou  11.21462 -0.06965\n",
      "11954  13494829         Karmé  11.66346  0.08201\n",
      "11955  13494830     Damdamkom  11.14989  0.43655\n",
      "11956  13494831       Dazenré  11.43801  0.21293\n",
      "11957  13494832   Pogoyoaguen  11.44725  0.21074\n",
      "\n",
      "[9466 rows x 4 columns]\n"
     ]
    }
   ],
   "source": [
    "# 4.4 les lieux dont les coordonnées sont comprises entre (lat >= 11 et lon <= 0.5)\n",
    "df_coords = df_small[(df_small['lat'] >= 11) & (df_small['long'] <= 0.5)]\n",
    "\n",
    "print(\"Lieux filtrés selon lat >= 11 et long <= 0.5 :\")\n",
    "print(df_coords)\n",
    "\n",
    "# Sauvegarde optionnelle\n",
    "df_coords.to_csv(\"coords_filter.csv\", index=False)"
   ]
  },
  {
   "cell_type": "code",
   "execution_count": 106,
   "id": "f2a315ab-cc7f-4622-94a9-8faaeacef960",
   "metadata": {},
   "outputs": [
    {
     "name": "stdout",
     "output_type": "stream",
     "text": [
      "Feuilles créées : gounghin, A_to_P\n",
      "Les feuilles présentes : ['gounghin', 'A_to_P'] \n",
      "\n",
      "Aperçu de la feuille : gounghin\n",
      "         ID       location_name       lat     long\n",
      "0   2353306            Gounghin  12.06677 -1.42134\n",
      "1   2360473            Gounghin  12.62488 -1.36398\n",
      "2   2570204            Gounghin  12.31436 -1.37900\n",
      "3  10342749            Gounghin  12.06667 -0.15000\n",
      "4  10629032  BICIAB // Gounghin  12.35921 -1.54273 \n",
      "\n",
      "Aperçu de la feuille : A_to_P\n",
      "        ID          location_name       lat     long\n",
      "0  2282318                 Pouéné   9.72908 -2.78660\n",
      "1  2285251     Léraba Occidentale  10.28333 -5.11667\n",
      "2  2287216              Kéléouoro   9.80748 -4.05023\n",
      "3  2298457           Issana Bouga  10.91667 -1.18333\n",
      "4  2353290  Forêt Classée de Ziga  12.47106 -1.08644 \n",
      "\n"
     ]
    }
   ],
   "source": [
    "# 5. Création du fichier Excel \n",
    "with pd.ExcelWriter(\"mini_projet.xlsx\", engine=\"xlsxwriter\") as writer:\n",
    "    df_gounghin.to_excel(writer, sheet_name=\"gounghin\", index=False)\n",
    "    df_A_to_P.to_excel(writer, sheet_name=\"A_to_P\", index=False)\n",
    "\n",
    "print(\"Feuilles créées : gounghin, A_to_P\")\n",
    "\n",
    "#6. Vérification et aperçu\n",
    "excel_file = pd.ExcelFile(\"mini_projet.xlsx\")\n",
    "print(\"Les feuilles présentes :\", excel_file.sheet_names, \"\\n\")\n",
    "\n",
    "for sheet in excel_file.sheet_names:\n",
    "    print(f\"Aperçu de la feuille : {sheet}\")\n",
    "    df_sheet = pd.read_excel(excel_file, sheet_name=sheet)\n",
    "    print(df_sheet.head(), \"\\n\")\n"
   ]
  }
 ],
 "metadata": {
  "kernelspec": {
   "display_name": "Python [conda env:base] *",
   "language": "python",
   "name": "conda-base-py"
  },
  "language_info": {
   "codemirror_mode": {
    "name": "ipython",
    "version": 3
   },
   "file_extension": ".py",
   "mimetype": "text/x-python",
   "name": "python",
   "nbconvert_exporter": "python",
   "pygments_lexer": "ipython3",
   "version": "3.12.7"
  }
 },
 "nbformat": 4,
 "nbformat_minor": 5
}
